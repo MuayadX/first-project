{
 "cells": [
  {
   "cell_type": "code",
   "execution_count": 1,
   "metadata": {},
   "outputs": [
    {
     "name": "stdout",
     "output_type": "stream",
     "text": [
      "Muayad\n"
     ]
    }
   ],
   "source": [
    "my_name = 'Muayad'\n",
    "print(my_name)"
   ]
  },
  {
   "cell_type": "code",
   "execution_count": 10,
   "metadata": {},
   "outputs": [
    {
     "name": "stdout",
     "output_type": "stream",
     "text": [
      "30\n"
     ]
    }
   ],
   "source": [
    "age = 30\n",
    "print(age)"
   ]
  },
  {
   "cell_type": "code",
   "execution_count": 3,
   "metadata": {},
   "outputs": [
    {
     "name": "stdout",
     "output_type": "stream",
     "text": [
      "-2\n"
     ]
    }
   ],
   "source": [
    "julia_age = 32 \n",
    "age_diff = age - julia_age\n",
    "print(age_diff)"
   ]
  },
  {
   "cell_type": "code",
   "execution_count": 5,
   "metadata": {},
   "outputs": [
    {
     "name": "stdout",
     "output_type": "stream",
     "text": [
      "You are older than 21\n"
     ]
    }
   ],
   "source": [
    "if age > 21 : \n",
    "    print ( \"You are older than 21\")\n",
    "else :\n",
    "        print (\"You are not older than 21\")\n"
   ]
  },
  {
   "cell_type": "code",
   "execution_count": 11,
   "metadata": {},
   "outputs": [
    {
     "name": "stdout",
     "output_type": "stream",
     "text": [
      "Julia is older than you\n"
     ]
    }
   ],
   "source": [
    "if julia_age > age : \n",
    "    print(\"Julia is older than you\")\n",
    "elif julia_age < age:\n",
    "    print (\"Julia is younger than you\")\n",
    "else: \n",
    "    print (\"You have the same age as Julia\")\n"
   ]
  },
  {
   "cell_type": "code",
   "execution_count": 14,
   "metadata": {},
   "outputs": [
    {
     "name": "stdout",
     "output_type": "stream",
     "text": [
      "Kai\n",
      "arjun\n",
      "Kai\n",
      "Marjila\n",
      "Marzieh\n",
      "Muayad\n",
      "Ottavia\n",
      "Satomi\n",
      "Valentina\n",
      "arjun\n"
     ]
    }
   ],
   "source": [
    "class_names = ['Valentina', 'Muayad', 'Marzieh', 'Marjila', 'Satomi', 'arjun', 'Kai', 'Ottavia']\n",
    "class_names.sort()\n",
    "print(class_names[0])\n",
    "print(class_names[-1])\n",
    "\n",
    "for name in class_names : \n",
    "    print (name)"
   ]
  },
  {
   "cell_type": "code",
   "execution_count": 19,
   "metadata": {},
   "outputs": [
    {
     "name": "stdout",
     "output_type": "stream",
     "text": [
      "73\n",
      "2\n"
     ]
    }
   ],
   "source": [
    "numbers = [2,3,4,5,6,7,34,2,4,45,34,73,4]\n",
    "print (max(numbers))\n",
    "print(min(numbers))"
   ]
  },
  {
   "cell_type": "code",
   "execution_count": 20,
   "metadata": {},
   "outputs": [
    {
     "name": "stdout",
     "output_type": "stream",
     "text": [
      "23\n",
      "27\n",
      "17\n",
      "12\n",
      "15\n",
      "16\n",
      "28\n",
      "26\n",
      "43\n",
      "14\n"
     ]
    }
   ],
   "source": [
    "year_of_birth = [1999, 1995, 2005, 2010, 2007, 2006, 1994, 1996, 1979, 2008]\n",
    "\n",
    "for year in year_of_birth : \n",
    "    print ( 2022 - year )"
   ]
  },
  {
   "cell_type": "code",
   "execution_count": 55,
   "metadata": {},
   "outputs": [
    {
     "name": "stdout",
     "output_type": "stream",
     "text": [
      "Bob is 23 years old \n",
      "Jack is 27 years old \n",
      "Lisa is 17 years old \n",
      "Maria is 12 years old \n",
      "Ben is 15 years old \n",
      "Emma is 16 years old \n",
      "Oscar is 28 years old \n",
      "Amy is 26 years old \n",
      "Paul is 43 years old \n",
      "Etta is 14 years old \n"
     ]
    }
   ],
   "source": [
    "#Exercise 11\n",
    "#Given below is a list of 10 customers with name and year of birth, however, the list can be as large as several thousands of customers.\n",
    "#Use a loop to iterate over the list and print the name and age of each customer.\n",
    "#Afterwards, for each customer try to print the sentence \"customer_name is customer_age years old\".\n",
    "#customer_name and customer_age should correspond to each customer's name and age.\n",
    "\n",
    "\n",
    "customer_list = [\n",
    "                    {\"name\": \"Bob\", \"age\": 1999},\n",
    "                    {\"name\": \"Jack\", \"age\": 1995},\n",
    "                    {\"name\": \"Lisa\", \"age\": 2005},\n",
    "                    {\"name\": \"Maria\", \"age\": 2010},\n",
    "                    {\"name\": \"Ben\", \"age\": 2007},\n",
    "                    {\"name\": \"Emma\", \"age\": 2006},\n",
    "                    {\"name\": \"Oscar\", \"age\": 1994},\n",
    "                    {\"name\": \"Amy\", \"age\": 1996},\n",
    "                    {\"name\": \"Paul\", \"age\": 1979},\n",
    "                    {\"name\": \"Etta\", \"age\": 2008}\n",
    "                ]\n",
    "\n",
    "for x in customer_list : \n",
    "    print (x[\"name\"], \"is\" , 2022 - x[\"age\"], \"years old \")\n",
    "\n"
   ]
  },
  {
   "cell_type": "code",
   "execution_count": 78,
   "metadata": {},
   "outputs": [],
   "source": []
  },
  {
   "cell_type": "code",
   "execution_count": 81,
   "metadata": {},
   "outputs": [
    {
     "name": "stdout",
     "output_type": "stream",
     "text": [
      "[11, 12, 13, 14, 20, 23, 24, 25]\n"
     ]
    }
   ],
   "source": [
    "#Exercise 12\n",
    "#Given a list of ages, remove the youngest and the oldest person.\n",
    "\n",
    "ages = [20, 24, 14, 9, 12, 13, 25, 23, 40, 11]\n",
    "\n",
    "#ages.remove(min(ages))\n",
    "#ages.remove(max(ages))\n",
    "\n",
    "\n",
    "ages.sort()\n",
    "ages.pop()\n",
    "ages.pop(0)\n",
    "\n",
    "\n",
    "print(ages)"
   ]
  },
  {
   "cell_type": "code",
   "execution_count": 94,
   "metadata": {},
   "outputs": [
    {
     "data": {
      "text/plain": [
       "[15, 13, 16, 18, 19, 10]"
      ]
     },
     "execution_count": 94,
     "metadata": {},
     "output_type": "execute_result"
    }
   ],
   "source": [
    "#Exercise 13\n",
    "#The task is to create an other list with the common ages.\n",
    "\n",
    "berlin = [15, 13, 16, 18, 19, 10, 12 ]\n",
    "munich = [7, 13, 15, 20, 19, 18, 10, 16]\n",
    "\n",
    "common_ages_list = []\n",
    "\n",
    "for x in berlin : \n",
    "    for y in munich: \n",
    "        if x == y : \n",
    "            common_ages_list.append(x)\n",
    "\n",
    "common_ages_list"
   ]
  },
  {
   "cell_type": "code",
   "execution_count": 90,
   "metadata": {},
   "outputs": [
    {
     "data": {
      "text/plain": [
       "{10, 13, 15, 16, 18, 19}"
      ]
     },
     "execution_count": 90,
     "metadata": {},
     "output_type": "execute_result"
    }
   ],
   "source": [
    "#Exercise 14\n",
    "#You have a list with ages. Remove the duplicates.\n",
    "\n",
    "ages_common = [15,13,16,18,19,15,10]\n",
    "ages_no_common = set(ages_common)\n",
    "ages_no_common\n"
   ]
  },
  {
   "cell_type": "code",
   "execution_count": 95,
   "metadata": {},
   "outputs": [
    {
     "name": "stdout",
     "output_type": "stream",
     "text": [
      " welcome Evelyn, have a nice day! \n",
      " welcome Jost, have a nice day! \n"
     ]
    }
   ],
   "source": [
    "'''  Exercise 15\n",
    "Write a function that works like below:\n",
    "\n",
    "Function name: welcome\n",
    "\n",
    "welcome('Evelyn') would print- 'Welcome Evelyn, have a nice day!'\n",
    "\n",
    "welcome('Jost'), it would print - 'Welcome Jost, have a nice day!\n",
    "\n",
    "'''\n",
    "\n",
    "def welcome (name): \n",
    "    print (f\" welcome {name}, have a nice day! \")\n",
    "\n",
    "welcome ('Evelyn')\n",
    "welcome ('Jost')"
   ]
  },
  {
   "cell_type": "code",
   "execution_count": 115,
   "metadata": {},
   "outputs": [
    {
     "name": "stdout",
     "output_type": "stream",
     "text": [
      "6\n",
      "5\n",
      "2\n"
     ]
    }
   ],
   "source": [
    "''' Exercise 16\n",
    "Write a function that takes a string as input and calculates the length.\n",
    "\n",
    "Function name: get_length\n",
    "\n",
    "get_length('Hello') would print / return 5.\n",
    "\n",
    "get_length('Hi') would print / return 2.\n",
    "\n",
    "'''\n",
    "\n",
    "\n",
    "def get_length (word):\n",
    "    counter = 0\n",
    "    for x in word : \n",
    "        counter += 1 \n",
    "    print (counter)\n",
    "\n",
    "get_length('Muayad')\n",
    "get_length('Hello')\n",
    "get_length('Hi')\n",
    "\n"
   ]
  },
  {
   "cell_type": "code",
   "execution_count": 122,
   "metadata": {},
   "outputs": [
    {
     "name": "stdout",
     "output_type": "stream",
     "text": [
      "Yes\n",
      "No\n"
     ]
    }
   ],
   "source": [
    "''' Exercise 17\n",
    "Write a function which checks whether a number is even.\n",
    "\n",
    "Hint: Think about the modulus operator\n",
    "\n",
    "Function name: check_even\n",
    "\n",
    "check_even(6) would print / return 'Yes'\n",
    "\n",
    "check_even(5) would print / return 'No'\n",
    "\n",
    "'''\n",
    "\n",
    "def check_even(num) : \n",
    "    if num % 2 == 0 :\n",
    "         print ('Yes')\n",
    "    else : \n",
    "         print ('No')\n",
    "\n",
    "check_even(6)\n",
    "check_even(5)\n"
   ]
  },
  {
   "cell_type": "code",
   "execution_count": 124,
   "metadata": {},
   "outputs": [
    {
     "name": "stdout",
     "output_type": "stream",
     "text": [
      "Bob is 23 years old \n",
      "Jack is 27 years old \n"
     ]
    }
   ],
   "source": [
    "#Exercise 18\n",
    "#Rewrite exercises 11, 12, 13, 14, 15 in a function.\n",
    "\n",
    "\n",
    "def name_age (customer_list):\n",
    "    for x in customer_list : \n",
    "        print (x[\"name\"], \"is\" , 2022 - x[\"age\"], \"years old \")\n",
    "\n",
    "name_age ( [ {\"name\": \"Bob\", \"age\": 1999}, {\"name\": \"Jack\", \"age\": 1995} ] )"
   ]
  },
  {
   "cell_type": "code",
   "execution_count": 127,
   "metadata": {},
   "outputs": [
    {
     "name": "stdout",
     "output_type": "stream",
     "text": [
      "[11, 12, 13, 14, 20, 23, 24, 25]\n"
     ]
    }
   ],
   "source": [
    "ages = [20, 24, 14, 9, 12, 13, 25, 23, 40, 11]\n",
    "\n",
    "#ages.remove(min(ages))\n",
    "#ages.remove(max(ages))\n",
    "\n",
    "def remove_max_min (ages):\n",
    "    ages.sort()\n",
    "    ages.pop()\n",
    "    ages.pop(0)\n",
    "    print(ages)\n",
    "\n",
    "\n",
    "remove_max_min (ages)\n"
   ]
  },
  {
   "cell_type": "code",
   "execution_count": 143,
   "metadata": {},
   "outputs": [
    {
     "data": {
      "text/plain": [
       "[15, 13, 16, 18, 19, 10]"
      ]
     },
     "execution_count": 143,
     "metadata": {},
     "output_type": "execute_result"
    }
   ],
   "source": [
    "berlin = [15, 13, 16, 18, 19, 10, 12 ]\n",
    "munich = [7, 13, 15, 20, 19, 18, 10, 16]\n",
    "\n",
    "def common_ages_fun (list_1,list_2):\n",
    "    common_ages_list = []\n",
    "\n",
    "    for x in list_1: \n",
    "        for y in list_2:\n",
    "             if x == y :\n",
    "                common_ages_list.append(x)\n",
    "    \n",
    "    return common_ages_list\n",
    "\n",
    "    \n",
    "common_ages_fun(berlin, munich)\n",
    "\n"
   ]
  },
  {
   "cell_type": "code",
   "execution_count": 144,
   "metadata": {},
   "outputs": [
    {
     "data": {
      "text/plain": [
       "{10, 13, 15, 16, 18, 19}"
      ]
     },
     "execution_count": 144,
     "metadata": {},
     "output_type": "execute_result"
    }
   ],
   "source": [
    "def remove_common_num (common_num_list):\n",
    "    ages_no_common = set(common_num_list)\n",
    "    return ages_no_common\n",
    "\n",
    "\n",
    "remove_common_num(ages_common)\n"
   ]
  },
  {
   "cell_type": "code",
   "execution_count": 153,
   "metadata": {},
   "outputs": [
    {
     "data": {
      "text/plain": [
       "True"
      ]
     },
     "execution_count": 153,
     "metadata": {},
     "output_type": "execute_result"
    }
   ],
   "source": [
    "#Exercise 19\n",
    "#Write a function that takes an input list and value of age to find as input and return true or false if the age value is present or not in the list.\n",
    "\n",
    "def age_in_list (list_ages, age):\n",
    "    for x in list_ages :\n",
    "        if x == age:\n",
    "            return True \n",
    "        else: \n",
    "            pass\n",
    "    return False\n",
    "\n",
    "list_ages = [22,18,17,27,31,56,12,42]\n",
    "age_in_list(list_ages, 42)\n",
    "\n"
   ]
  },
  {
   "cell_type": "code",
   "execution_count": null,
   "metadata": {},
   "outputs": [],
   "source": []
  }
 ],
 "metadata": {
  "kernelspec": {
   "display_name": "Python 3.10.8 (conda)",
   "language": "python",
   "name": "python3"
  },
  "language_info": {
   "codemirror_mode": {
    "name": "ipython",
    "version": 3
   },
   "file_extension": ".py",
   "mimetype": "text/x-python",
   "name": "python",
   "nbconvert_exporter": "python",
   "pygments_lexer": "ipython3",
   "version": "3.10.8"
  },
  "orig_nbformat": 4,
  "vscode": {
   "interpreter": {
    "hash": "0048ec6b289d94a919f1e3500f11f9edd24f3d1841e33cb9640c9186da8014b3"
   }
  }
 },
 "nbformat": 4,
 "nbformat_minor": 2
}
