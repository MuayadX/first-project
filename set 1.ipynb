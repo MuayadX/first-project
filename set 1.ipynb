{
 "cells": [
  {
   "cell_type": "code",
   "execution_count": 27,
   "metadata": {},
   "outputs": [
    {
     "data": {
      "text/plain": [
       "3"
      ]
     },
     "execution_count": 27,
     "metadata": {},
     "output_type": "execute_result"
    }
   ],
   "source": [
    "def find_outlier (list_int):\n",
    "    list_odd = []\n",
    "    list_even = []\n",
    "    for i in list_int:\n",
    "        if i % 2 == 0 :\n",
    "            list_even.append(i)\n",
    "        else: \n",
    "            list_odd.append(i)\n",
    "    if len(list_even) >= 2 :\n",
    "        return list_odd[0]\n",
    "    elif len(list_odd) >= 2:\n",
    "        return list_even[0]\n",
    "    \n",
    "\n",
    "find_outlier([2, 4, 6, 8, 10, 3])"
   ]
  },
  {
   "cell_type": "code",
   "execution_count": 69,
   "metadata": {},
   "outputs": [
    {
     "data": {
      "text/plain": [
       "[7, 51, 3, 7, 33]"
      ]
     },
     "execution_count": 69,
     "metadata": {},
     "output_type": "execute_result"
    }
   ],
   "source": [
    "def array_diff ( a , b ): \n",
    "    c = list(set(a) & set(b))\n",
    "    return [i for i in a if i not in c]\n",
    "\n",
    "\n",
    "array_diff([5,1,7,51,2,2,4,3,9,7,33], [2,4,1,5,8,9])"
   ]
  },
  {
   "cell_type": "code",
   "execution_count": 70,
   "metadata": {},
   "outputs": [
    {
     "name": "stdout",
     "output_type": "stream",
     "text": [
      "Bart,Lisa & Maggie\n"
     ]
    }
   ],
   "source": [
    "# Q3 \n",
    "\n",
    "namelist = [  {'name': 'Bart'}, {'name': 'Lisa'}, {'name': 'Maggie'}]\n",
    "\n",
    "names = [i['name'] for i in namelist ]\n",
    "\n",
    "if len(names) == 2 : \n",
    "    print (' & '.join(names))\n",
    "elif len(names) > 2 :\n",
    "    print ( ','.join(names[:-1]) + ' & ' + ''.join(names[-1]))\n",
    "elif len(names) == 1:\n",
    "    print (names[0])\n",
    "else : \n",
    "    print ('no names to print')"
   ]
  },
  {
   "cell_type": "code",
   "execution_count": 84,
   "metadata": {},
   "outputs": [
    {
     "data": {
      "text/plain": [
       "[1, 123]"
      ]
     },
     "execution_count": 84,
     "metadata": {},
     "output_type": "execute_result"
    }
   ],
   "source": [
    "# Q4 \n",
    "\n",
    "def filter_list (non_filter_list):\n",
    "    filtered_list = []\n",
    "    for i in non_filter_list : \n",
    "        if type (i) == int and i > 0 : \n",
    "            filtered_list.append(i)\n",
    "    return filtered_list\n",
    "\n",
    " \n",
    "filter_list([1,2,'a','b']) \n",
    "filter_list([1,'a','b',0,15])\n",
    "filter_list([1,-2,'aasf','1','12',123])\n",
    "\n"
   ]
  },
  {
   "cell_type": "code",
   "execution_count": 109,
   "metadata": {},
   "outputs": [
    {
     "data": {
      "text/plain": [
       "5"
      ]
     },
     "execution_count": 109,
     "metadata": {},
     "output_type": "execute_result"
    }
   ],
   "source": [
    "def find_it (numbers_list):\n",
    "    for i in set(numbers_list):\n",
    "        if numbers_list.count(i) % 2 == 1 :\n",
    "            return i \n",
    "\n",
    "\n",
    "find_it([20,1,-1,2,-2,3,3,5,5,1,2,4,20,4,-1,-2,5])"
   ]
  },
  {
   "cell_type": "code",
   "execution_count": 122,
   "metadata": {},
   "outputs": [
    {
     "data": {
      "text/plain": [
       "False"
      ]
     },
     "execution_count": 122,
     "metadata": {},
     "output_type": "execute_result"
    }
   ],
   "source": [
    "# Q6 \n",
    "\n",
    "def XO (any_str = '') : \n",
    "\n",
    "\n",
    "    if any_str.upper().count('X') == any_str.upper().count('O') :\n",
    "        return True\n",
    "    else:\n",
    "        return False\n",
    "\n",
    "\n",
    "XO('ooxx')\n",
    "XO(\"xooxx\")\n",
    "XO(\"ooxXm\")\n",
    "XO(\"zpzpzpp\")\n",
    "XO(\"zzoo\")\n",
    "\n"
   ]
  },
  {
   "cell_type": "code",
   "execution_count": 156,
   "metadata": {},
   "outputs": [
    {
     "data": {
      "text/plain": [
       "True"
      ]
     },
     "execution_count": 156,
     "metadata": {},
     "output_type": "execute_result"
    }
   ],
   "source": [
    "# Q7\n",
    "\n",
    "def validate_pin (any_str = ''):\n",
    "    if len(any_str) == 4 or len(any_str) == 6 :\n",
    "\n",
    "        if sum(i.isdigit() for i in any_str) == 4 or sum(i.isdigit() for i in any_str) == 6 :\n",
    "            return True\n",
    "        else : \n",
    "            return False     \n",
    "    else : \n",
    "        return False \n",
    "\n",
    "validate_pin(\"123456\")\n"
   ]
  },
  {
   "cell_type": "code",
   "execution_count": 179,
   "metadata": {},
   "outputs": [
    {
     "data": {
      "text/plain": [
       "2"
      ]
     },
     "execution_count": 179,
     "metadata": {},
     "output_type": "execute_result"
    }
   ],
   "source": [
    "#Q8\n",
    "def length_shortest (any_string = ''):\n",
    "\n",
    "    list_words = any_string.split(' ')\n",
    "    min_word = len(list_words[0])\n",
    "\n",
    "    for i in list_words : \n",
    "        if len(i) < min_word :\n",
    "            min_word = len(i)\n",
    "    return min_word\n",
    "\n",
    "\n",
    "length_shortest (\"Muayad Sirafy king hi\")"
   ]
  },
  {
   "cell_type": "code",
   "execution_count": 220,
   "metadata": {},
   "outputs": [
    {
     "ename": "IndexError",
     "evalue": "string index out of range",
     "output_type": "error",
     "traceback": [
      "\u001b[0;31m---------------------------------------------------------------------------\u001b[0m",
      "\u001b[0;31mIndexError\u001b[0m                                Traceback (most recent call last)",
      "Cell \u001b[0;32mIn [220], line 10\u001b[0m\n\u001b[1;32m      8\u001b[0m \u001b[39mfor\u001b[39;00m j \u001b[39min\u001b[39;00m a : \n\u001b[1;32m      9\u001b[0m     \u001b[39mif\u001b[39;00m  i \u001b[39m==\u001b[39m j : \n\u001b[0;32m---> 10\u001b[0m         \u001b[39mprint\u001b[39m (i[\u001b[39m+\u001b[39;49m\u001b[39m1\u001b[39;49m])\n",
      "\u001b[0;31mIndexError\u001b[0m: string index out of range"
     ]
    }
   ],
   "source": [
    "a = ['a', 'b', 'c', 'd', 'e', 'f', 'g', 'h', 'i', 'j', 'k', 'l', 'm', 'n', 'o', 'p', 'q', 'r', 's', 't', 'u', 'v', 'w', 'x', 'y', 'z']\n",
    "A = ['A', 'B', 'C', 'D', 'E', 'F', 'G', 'H', 'I', 'J', 'K', 'L', 'M', 'N', 'O', 'P', 'Q', 'R', 'S', 'T', 'U', 'V', 'W', 'X', 'Y', 'Z']\n",
    "missed_letter_list = ['a','b','c','d','f']\n",
    "\n",
    "\n",
    "\n",
    "for i in missed_letter_list : \n",
    "    for j in a : \n",
    "        while  i == j : \n",
    "            \n",
    "             \n",
    "            \n",
    "\n",
    "\n",
    "\n",
    "     \n",
    "\n",
    "\n",
    "\n"
   ]
  },
  {
   "cell_type": "code",
   "execution_count": 205,
   "metadata": {},
   "outputs": [
    {
     "name": "stdout",
     "output_type": "stream",
     "text": [
      "['Ryan', 'Yous']\n"
     ]
    }
   ],
   "source": [
    "# Q 10 \n",
    "\n",
    "\n",
    "def friends_name (list_names):\n",
    "    print ([i for i in list_names if len(i) == 4])\n",
    "\n",
    "\n",
    "friends_name([\"Ryan\", \"Kieran\", \"Jason\", \"Yous\"])"
   ]
  },
  {
   "cell_type": "code",
   "execution_count": null,
   "metadata": {},
   "outputs": [],
   "source": []
  }
 ],
 "metadata": {
  "kernelspec": {
   "display_name": "Python 3.10.8 (conda)",
   "language": "python",
   "name": "python3"
  },
  "language_info": {
   "codemirror_mode": {
    "name": "ipython",
    "version": 3
   },
   "file_extension": ".py",
   "mimetype": "text/x-python",
   "name": "python",
   "nbconvert_exporter": "python",
   "pygments_lexer": "ipython3",
   "version": "3.10.8"
  },
  "orig_nbformat": 4,
  "vscode": {
   "interpreter": {
    "hash": "0048ec6b289d94a919f1e3500f11f9edd24f3d1841e33cb9640c9186da8014b3"
   }
  }
 },
 "nbformat": 4,
 "nbformat_minor": 2
}
