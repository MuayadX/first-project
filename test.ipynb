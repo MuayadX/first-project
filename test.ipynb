{
 "cells": [
  {
   "cell_type": "code",
   "execution_count": 5,
   "metadata": {},
   "outputs": [
    {
     "name": "stdout",
     "output_type": "stream",
     "text": [
      "hello world\n"
     ]
    }
   ],
   "source": [
    "print(\"hello world\")"
   ]
  },
  {
   "cell_type": "code",
   "execution_count": 6,
   "metadata": {},
   "outputs": [
    {
     "name": "stdout",
     "output_type": "stream",
     "text": [
      "hello world!\n"
     ]
    }
   ],
   "source": [
    "print (\"hello world!\")"
   ]
  },
  {
   "cell_type": "code",
   "execution_count": 8,
   "metadata": {},
   "outputs": [
    {
     "name": "stdout",
     "output_type": "stream",
     "text": [
      "Muayad \n"
     ]
    }
   ],
   "source": [
    "my_name = \"Muayad \"\n",
    "print(my_name)"
   ]
  },
  {
   "cell_type": "code",
   "execution_count": 19,
   "metadata": {},
   "outputs": [],
   "source": [
    "\n",
    "def check_even_list (num_list):\n",
    "    for num in num_list:\n",
    "        if num % 2 == 0:\n",
    "            return True \n",
    "        else :\n",
    "            pass \n",
    "      \n",
    "\n",
    "check_even_list ([5,7,3,9])"
   ]
  },
  {
   "cell_type": "code",
   "execution_count": 22,
   "metadata": {},
   "outputs": [
    {
     "data": {
      "text/plain": [
       "[4, 2, 6]"
      ]
     },
     "execution_count": 22,
     "metadata": {},
     "output_type": "execute_result"
    }
   ],
   "source": [
    "\n",
    "def check_even_list (num_list):\n",
    "    even_list = []\n",
    "    for num in num_list:\n",
    "        if num % 2 == 0:\n",
    "            even_list.append(num) \n",
    "        else :\n",
    "            pass \n",
    "    return even_list  \n",
    "\n",
    "check_even_list ([5,7,3,9,4,2,6])"
   ]
  },
  {
   "cell_type": "code",
   "execution_count": 7,
   "metadata": {},
   "outputs": [],
   "source": [
    "def name_age (customer_list):\n",
    "    for x in customer_list : \n",
    "        print (x[\"name\"], \"is\" , 2022 - x[\"age\"], \"years old \")"
   ]
  },
  {
   "cell_type": "code",
   "execution_count": 14,
   "metadata": {},
   "outputs": [
    {
     "data": {
      "text/plain": [
       "[{3, 4, 9}]"
      ]
     },
     "execution_count": 14,
     "metadata": {},
     "output_type": "execute_result"
    }
   ],
   "source": [
    "l1 = [5,4,6,9,3,7]\n",
    "l2 = [3,3,4,9,1,3]\n",
    "l3 = [set(l2) & set(l1)]\n",
    "\n",
    "l3 "
   ]
  },
  {
   "cell_type": "code",
   "execution_count": 97,
   "metadata": {},
   "outputs": [
    {
     "name": "stdout",
     "output_type": "stream",
     "text": [
      "Bart,Lisa & Maggie\n"
     ]
    }
   ],
   "source": [
    "namelist = [  {'name': 'Bart'}, {'name': 'Lisa'}, {'name': 'Maggie'}]\n",
    "\n",
    "names = [i['name'] for i in namelist ]\n",
    "\n",
    "if len(names) == 2 : \n",
    "    print (' & '.join(names))\n",
    "elif len(names) > 2 :\n",
    "    print ( ','.join(names[:-1]) + ' & ' + ''.join(names[-1]))\n",
    "elif len(names) == 1:\n",
    "    print (names[0])\n",
    "else : \n",
    "    print ('no names to print')"
   ]
  },
  {
   "cell_type": "code",
   "execution_count": 98,
   "metadata": {},
   "outputs": [
    {
     "data": {
      "text/plain": [
       "{-2, -1, 1, 2, 3, 4, 5, 20}"
      ]
     },
     "execution_count": 98,
     "metadata": {},
     "output_type": "execute_result"
    }
   ],
   "source": [
    "set([20,1,-1,2,-2,3,3,5,5,1,2,4,20,4,-1,-2,5])"
   ]
  },
  {
   "cell_type": "code",
   "execution_count": 130,
   "metadata": {},
   "outputs": [
    {
     "name": "stdout",
     "output_type": "stream",
     "text": [
      "{2, 3, 4, 6, 7, 20}\n",
      "2 2\n",
      "3 3\n",
      "4 5\n",
      "6 1\n",
      "7 1\n",
      "20 1\n"
     ]
    }
   ],
   "source": [
    "l = [20,2,2,3,3,3,4,4,4,4,4,6,7]\n",
    "print(set(l))\n",
    "\n",
    "for i in set(l) : \n",
    "    print (i ,l.count(i))\n",
    "    \n"
   ]
  },
  {
   "cell_type": "code",
   "execution_count": 185,
   "metadata": {},
   "outputs": [
    {
     "data": {
      "text/plain": [
       "False"
      ]
     },
     "execution_count": 185,
     "metadata": {},
     "output_type": "execute_result"
    }
   ],
   "source": [
    "def validate_pin(s):\n",
    "  s = list(s)\n",
    "  n = []\n",
    "\n",
    "  for item in s:\n",
    "    try:\n",
    "      n.append(int(item))\n",
    "    except:\n",
    "      return False\n",
    "  \n",
    "  \n",
    "  if (len(n) == 4 or len(n) == 6):\n",
    "    return True\n",
    "  else:\n",
    "    return False\n",
    "\n",
    "validate_pin(\"12347h\")"
   ]
  },
  {
   "cell_type": "code",
   "execution_count": 199,
   "metadata": {},
   "outputs": [
    {
     "name": "stdout",
     "output_type": "stream",
     "text": [
      "6\n",
      "6\n",
      "4\n"
     ]
    }
   ],
   "source": [
    "any_string = \"Muayad Sirafy king\"\n",
    "\n",
    "l = any_string.split(' ')\n",
    "\n",
    "\n",
    "l\n",
    "for i in l :\n",
    "    print (len(i))\n"
   ]
  },
  {
   "cell_type": "code",
   "execution_count": 216,
   "metadata": {},
   "outputs": [
    {
     "name": "stdout",
     "output_type": "stream",
     "text": [
      "['a', 'b', 'c', 'd', 'e', 'f', 'g', 'h', 'i', 'j', 'k', 'l', 'm', 'n', 'o', 'p', 'q', 'r', 's', 't', 'u', 'v', 'w', 'x', 'y', 'z']\n",
      "['A', 'B', 'C', 'D', 'E', 'F', 'G', 'H', 'I', 'J', 'K', 'L', 'M', 'N', 'O', 'P', 'Q', 'R', 'S', 'T', 'U', 'V', 'W', 'X', 'Y', 'Z']\n"
     ]
    }
   ],
   "source": [
    "s = \"abcdefghijklmnopqrstuvwxyz\"\n",
    "sc = s.upper()\n",
    "\n",
    "ls = []\n",
    "lsc = []\n",
    "\n",
    "for i in s : \n",
    "    ls.append(i)\n",
    "print (ls)\n",
    "\n",
    "\n",
    "for i in sc : \n",
    "    lsc.append(i)\n",
    "print (lsc)"
   ]
  },
  {
   "cell_type": "code",
   "execution_count": null,
   "metadata": {},
   "outputs": [],
   "source": []
  },
  {
   "cell_type": "code",
   "execution_count": null,
   "metadata": {},
   "outputs": [],
   "source": []
  }
 ],
 "metadata": {
  "kernelspec": {
   "display_name": "Python 3.10.8 (conda)",
   "language": "python",
   "name": "python3"
  },
  "language_info": {
   "codemirror_mode": {
    "name": "ipython",
    "version": 3
   },
   "file_extension": ".py",
   "mimetype": "text/x-python",
   "name": "python",
   "nbconvert_exporter": "python",
   "pygments_lexer": "ipython3",
   "version": "3.10.8"
  },
  "orig_nbformat": 4,
  "vscode": {
   "interpreter": {
    "hash": "0048ec6b289d94a919f1e3500f11f9edd24f3d1841e33cb9640c9186da8014b3"
   }
  }
 },
 "nbformat": 4,
 "nbformat_minor": 2
}
